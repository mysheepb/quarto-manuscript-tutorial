{
 "cells": [
  {
   "cell_type": "markdown",
   "id": "2ea6cbd2-a28a-4e20-8f33-2d28275cb998",
   "metadata": {},
   "source": [
    "---\n",
    "title: 2020年2月大甲媽遶境新聞每天則數\n",
    "author:\n",
    "  - name: 張名揚\n",
    "    orcid: 0000-0002-0760-5497\n",
    "    corresponding: true\n",
    "    email: \n",
    "    roles:\n",
    "      - Investigation\n",
    "      - Project administration\n",
    "      - Software\n",
    "      - Visualization\n",
    "    affiliations:\n",
    "      - Fu Jen Catholic University\n",
    "keywords:\n",
    "  - 大甲媽\n",
    "  - 新聞\n",
    "abstract: |\n",
    "  2020年\n",
    "plain-language-summary: |\n",
    "  大甲媽遶境\n",
    "key-points:\n",
    "  - 2020年2月新聞\n",
    "  - 每天則數\n",
    "date: last-modified\n",
    "bibliography: references.bib\n",
    "citation:\n",
    "  container-title: 數位人文\n",
    "number-sections: true\n",
    "---"
   ]
  },
  {
   "cell_type": "code",
   "execution_count": 1,
   "id": "172cd325-c11f-4176-9690-dca33a9f199d",
   "metadata": {
    "editable": true,
    "slideshow": {
     "slide_type": ""
    },
    "tags": []
   },
   "outputs": [],
   "source": [
    "import altair as alt\n",
    "import pandas as pd"
   ]
  },
  {
   "cell_type": "code",
   "execution_count": 2,
   "id": "e3acf8db-a30d-4263-8677-81085656d542",
   "metadata": {},
   "outputs": [],
   "source": [
    "def timestamp(t):\n",
    "  return pd.to_datetime(t).timestamp() * 1000"
   ]
  },
  {
   "cell_type": "code",
   "execution_count": 6,
   "id": "8921e5f0-8c2b-475f-a196-c8efd8ccd422",
   "metadata": {},
   "outputs": [],
   "source": [
    "# Load the data from a CSV file\n",
    "data = pd.read_csv('Mazu_news_202002_stat_copy.csv')\n",
    "\n",
    "# Convert the first column to date format if it's not already\n",
    "data['日期'] = pd.to_datetime(data['日期'])\n",
    "\n",
    "# Convert all other columns to integers with zeros for missing data\n",
    "# Assuming the first column is '日期' and the rest are the data columns\n",
    "for col in data.columns[1:]:\n",
    "    data[col] = pd.to_numeric(data[col], errors='coerce').fillna(0).astype(int)\n",
    "\n",
    "# Melt the dataframe to make it long-form for easier plotting with Altair\n",
    "data_long = data.melt(id_vars=['日期'], var_name='報章', value_name='新聞則數')"
   ]
  },
  {
   "cell_type": "code",
   "execution_count": 7,
   "id": "a8274897-1b79-4dc6-b3ba-3c2a69c94e49",
   "metadata": {},
   "outputs": [],
   "source": [
    "# Define a selection slider for dates\n",
    "date_slider = alt.binding_range(min=data['日期'].min().value/1000000,  # value is in nanoseconds\n",
    "                                max=data['日期'].max().value/1000000, \n",
    "                                step=86400000,  # Step size: one day in milliseconds\n",
    "                                name='日期:')\n",
    "date_selection = alt.selection_point(fields=['日期'], \n",
    "                                      bind=date_slider, \n",
    "                                      name=\"slider\",\n",
    "                                      value=data['日期'].min().value/1000000)"
   ]
  },
  {
   "cell_type": "code",
   "execution_count": 8,
   "id": "7ef1fb43-4baa-4a8f-aeec-fe458ce9ce07",
   "metadata": {},
   "outputs": [
    {
     "name": "stderr",
     "output_type": "stream",
     "text": [
      "/opt/anaconda3/envs/Altair_Voila_Python3_11/lib/python3.9/site-packages/altair/utils/core.py:395: FutureWarning: the convert_dtype parameter is deprecated and will be removed in a future version.  Do ``ser.astype(object).apply()`` instead if you want ``convert_dtype=False``.\n",
      "  col = df[col_name].apply(to_list_if_array, convert_dtype=False)\n"
     ]
    },
    {
     "data": {
      "text/html": [
       "\n",
       "<style>\n",
       "  #altair-viz-5eb2fc452f664d9f9fc6f478c6b2db9b.vega-embed {\n",
       "    width: 100%;\n",
       "    display: flex;\n",
       "  }\n",
       "\n",
       "  #altair-viz-5eb2fc452f664d9f9fc6f478c6b2db9b.vega-embed details,\n",
       "  #altair-viz-5eb2fc452f664d9f9fc6f478c6b2db9b.vega-embed details summary {\n",
       "    position: relative;\n",
       "  }\n",
       "</style>\n",
       "<div id=\"altair-viz-5eb2fc452f664d9f9fc6f478c6b2db9b\"></div>\n",
       "<script type=\"text/javascript\">\n",
       "  var VEGA_DEBUG = (typeof VEGA_DEBUG == \"undefined\") ? {} : VEGA_DEBUG;\n",
       "  (function(spec, embedOpt){\n",
       "    let outputDiv = document.currentScript.previousElementSibling;\n",
       "    if (outputDiv.id !== \"altair-viz-5eb2fc452f664d9f9fc6f478c6b2db9b\") {\n",
       "      outputDiv = document.getElementById(\"altair-viz-5eb2fc452f664d9f9fc6f478c6b2db9b\");\n",
       "    }\n",
       "    const paths = {\n",
       "      \"vega\": \"https://cdn.jsdelivr.net/npm/vega@5?noext\",\n",
       "      \"vega-lib\": \"https://cdn.jsdelivr.net/npm/vega-lib?noext\",\n",
       "      \"vega-lite\": \"https://cdn.jsdelivr.net/npm/vega-lite@5.8.0?noext\",\n",
       "      \"vega-embed\": \"https://cdn.jsdelivr.net/npm/vega-embed@6?noext\",\n",
       "    };\n",
       "\n",
       "    function maybeLoadScript(lib, version) {\n",
       "      var key = `${lib.replace(\"-\", \"\")}_version`;\n",
       "      return (VEGA_DEBUG[key] == version) ?\n",
       "        Promise.resolve(paths[lib]) :\n",
       "        new Promise(function(resolve, reject) {\n",
       "          var s = document.createElement('script');\n",
       "          document.getElementsByTagName(\"head\")[0].appendChild(s);\n",
       "          s.async = true;\n",
       "          s.onload = () => {\n",
       "            VEGA_DEBUG[key] = version;\n",
       "            return resolve(paths[lib]);\n",
       "          };\n",
       "          s.onerror = () => reject(`Error loading script: ${paths[lib]}`);\n",
       "          s.src = paths[lib];\n",
       "        });\n",
       "    }\n",
       "\n",
       "    function showError(err) {\n",
       "      outputDiv.innerHTML = `<div class=\"error\" style=\"color:red;\">${err}</div>`;\n",
       "      throw err;\n",
       "    }\n",
       "\n",
       "    function displayChart(vegaEmbed) {\n",
       "      vegaEmbed(outputDiv, spec, embedOpt)\n",
       "        .catch(err => showError(`Javascript Error: ${err.message}<br>This usually means there's a typo in your chart specification. See the javascript console for the full traceback.`));\n",
       "    }\n",
       "\n",
       "    if(typeof define === \"function\" && define.amd) {\n",
       "      requirejs.config({paths});\n",
       "      require([\"vega-embed\"], displayChart, err => showError(`Error loading script: ${err.message}`));\n",
       "    } else {\n",
       "      maybeLoadScript(\"vega\", \"5\")\n",
       "        .then(() => maybeLoadScript(\"vega-lite\", \"5.8.0\"))\n",
       "        .then(() => maybeLoadScript(\"vega-embed\", \"6\"))\n",
       "        .catch(showError)\n",
       "        .then(() => displayChart(vegaEmbed));\n",
       "    }\n",
       "  })({\"config\": {\"view\": {\"continuousWidth\": 300, \"continuousHeight\": 300}}, \"data\": {\"name\": \"data-561111d66f00d162cfd7a2c2ec02e9a2\"}, \"mark\": {\"type\": \"bar\"}, \"encoding\": {\"x\": {\"field\": \"\\u5831\\u7ae0\", \"type\": \"nominal\"}, \"y\": {\"field\": \"\\u65b0\\u805e\\u5247\\u6578\", \"type\": \"quantitative\"}}, \"params\": [{\"name\": \"slider\", \"select\": {\"type\": \"point\", \"fields\": [\"\\u65e5\\u671f\"]}, \"bind\": {\"input\": \"range\", \"max\": 1582675200000.0, \"min\": 1581120000000.0, \"name\": \"\\u65e5\\u671f:\", \"step\": 86400000}, \"value\": 1581120000000.0}], \"transform\": [{\"filter\": \"date(datum.\\u65e5\\u671f) == date(slider.\\u65e5\\u671f[0])\"}], \"width\": 500, \"$schema\": \"https://vega.github.io/schema/vega-lite/v5.8.0.json\", \"datasets\": {\"data-561111d66f00d162cfd7a2c2ec02e9a2\": [{\"\\u65e5\\u671f\": \"2020-02-08T00:00:00\", \"\\u5831\\u7ae0\": \"\\u4e2d\\u592e\\u901a\\u8a0a\\u793e\", \"\\u65b0\\u805e\\u5247\\u6578\": 1}, {\"\\u65e5\\u671f\": \"2020-02-09T00:00:00\", \"\\u5831\\u7ae0\": \"\\u4e2d\\u592e\\u901a\\u8a0a\\u793e\", \"\\u65b0\\u805e\\u5247\\u6578\": 0}, {\"\\u65e5\\u671f\": \"2020-02-10T00:00:00\", \"\\u5831\\u7ae0\": \"\\u4e2d\\u592e\\u901a\\u8a0a\\u793e\", \"\\u65b0\\u805e\\u5247\\u6578\": 0}, {\"\\u65e5\\u671f\": \"2020-02-11T00:00:00\", \"\\u5831\\u7ae0\": \"\\u4e2d\\u592e\\u901a\\u8a0a\\u793e\", \"\\u65b0\\u805e\\u5247\\u6578\": 0}, {\"\\u65e5\\u671f\": \"2020-02-12T00:00:00\", \"\\u5831\\u7ae0\": \"\\u4e2d\\u592e\\u901a\\u8a0a\\u793e\", \"\\u65b0\\u805e\\u5247\\u6578\": 0}, {\"\\u65e5\\u671f\": \"2020-02-13T00:00:00\", \"\\u5831\\u7ae0\": \"\\u4e2d\\u592e\\u901a\\u8a0a\\u793e\", \"\\u65b0\\u805e\\u5247\\u6578\": 0}, {\"\\u65e5\\u671f\": \"2020-02-14T00:00:00\", \"\\u5831\\u7ae0\": \"\\u4e2d\\u592e\\u901a\\u8a0a\\u793e\", \"\\u65b0\\u805e\\u5247\\u6578\": 1}, {\"\\u65e5\\u671f\": \"2020-02-15T00:00:00\", \"\\u5831\\u7ae0\": \"\\u4e2d\\u592e\\u901a\\u8a0a\\u793e\", \"\\u65b0\\u805e\\u5247\\u6578\": 0}, {\"\\u65e5\\u671f\": \"2020-02-16T00:00:00\", \"\\u5831\\u7ae0\": \"\\u4e2d\\u592e\\u901a\\u8a0a\\u793e\", \"\\u65b0\\u805e\\u5247\\u6578\": 0}, {\"\\u65e5\\u671f\": \"2020-02-17T00:00:00\", \"\\u5831\\u7ae0\": \"\\u4e2d\\u592e\\u901a\\u8a0a\\u793e\", \"\\u65b0\\u805e\\u5247\\u6578\": 0}, {\"\\u65e5\\u671f\": \"2020-02-18T00:00:00\", \"\\u5831\\u7ae0\": \"\\u4e2d\\u592e\\u901a\\u8a0a\\u793e\", \"\\u65b0\\u805e\\u5247\\u6578\": 0}, {\"\\u65e5\\u671f\": \"2020-02-19T00:00:00\", \"\\u5831\\u7ae0\": \"\\u4e2d\\u592e\\u901a\\u8a0a\\u793e\", \"\\u65b0\\u805e\\u5247\\u6578\": 0}, {\"\\u65e5\\u671f\": \"2020-02-20T00:00:00\", \"\\u5831\\u7ae0\": \"\\u4e2d\\u592e\\u901a\\u8a0a\\u793e\", \"\\u65b0\\u805e\\u5247\\u6578\": 1}, {\"\\u65e5\\u671f\": \"2020-02-21T00:00:00\", \"\\u5831\\u7ae0\": \"\\u4e2d\\u592e\\u901a\\u8a0a\\u793e\", \"\\u65b0\\u805e\\u5247\\u6578\": 0}, {\"\\u65e5\\u671f\": \"2020-02-22T00:00:00\", \"\\u5831\\u7ae0\": \"\\u4e2d\\u592e\\u901a\\u8a0a\\u793e\", \"\\u65b0\\u805e\\u5247\\u6578\": 3}, {\"\\u65e5\\u671f\": \"2020-02-23T00:00:00\", \"\\u5831\\u7ae0\": \"\\u4e2d\\u592e\\u901a\\u8a0a\\u793e\", \"\\u65b0\\u805e\\u5247\\u6578\": 10}, {\"\\u65e5\\u671f\": \"2020-02-24T00:00:00\", \"\\u5831\\u7ae0\": \"\\u4e2d\\u592e\\u901a\\u8a0a\\u793e\", \"\\u65b0\\u805e\\u5247\\u6578\": 7}, {\"\\u65e5\\u671f\": \"2020-02-25T00:00:00\", \"\\u5831\\u7ae0\": \"\\u4e2d\\u592e\\u901a\\u8a0a\\u793e\", \"\\u65b0\\u805e\\u5247\\u6578\": 0}, {\"\\u65e5\\u671f\": \"2020-02-26T00:00:00\", \"\\u5831\\u7ae0\": \"\\u4e2d\\u592e\\u901a\\u8a0a\\u793e\", \"\\u65b0\\u805e\\u5247\\u6578\": 0}, {\"\\u65e5\\u671f\": \"2020-02-08T00:00:00\", \"\\u5831\\u7ae0\": \"\\u81ea\\u7531\\u6642\\u5831\", \"\\u65b0\\u805e\\u5247\\u6578\": 1}, {\"\\u65e5\\u671f\": \"2020-02-09T00:00:00\", \"\\u5831\\u7ae0\": \"\\u81ea\\u7531\\u6642\\u5831\", \"\\u65b0\\u805e\\u5247\\u6578\": 0}, {\"\\u65e5\\u671f\": \"2020-02-10T00:00:00\", \"\\u5831\\u7ae0\": \"\\u81ea\\u7531\\u6642\\u5831\", \"\\u65b0\\u805e\\u5247\\u6578\": 0}, {\"\\u65e5\\u671f\": \"2020-02-11T00:00:00\", \"\\u5831\\u7ae0\": \"\\u81ea\\u7531\\u6642\\u5831\", \"\\u65b0\\u805e\\u5247\\u6578\": 1}, {\"\\u65e5\\u671f\": \"2020-02-12T00:00:00\", \"\\u5831\\u7ae0\": \"\\u81ea\\u7531\\u6642\\u5831\", \"\\u65b0\\u805e\\u5247\\u6578\": 0}, {\"\\u65e5\\u671f\": \"2020-02-13T00:00:00\", \"\\u5831\\u7ae0\": \"\\u81ea\\u7531\\u6642\\u5831\", \"\\u65b0\\u805e\\u5247\\u6578\": 0}, {\"\\u65e5\\u671f\": \"2020-02-14T00:00:00\", \"\\u5831\\u7ae0\": \"\\u81ea\\u7531\\u6642\\u5831\", \"\\u65b0\\u805e\\u5247\\u6578\": 1}, {\"\\u65e5\\u671f\": \"2020-02-15T00:00:00\", \"\\u5831\\u7ae0\": \"\\u81ea\\u7531\\u6642\\u5831\", \"\\u65b0\\u805e\\u5247\\u6578\": 0}, {\"\\u65e5\\u671f\": \"2020-02-16T00:00:00\", \"\\u5831\\u7ae0\": \"\\u81ea\\u7531\\u6642\\u5831\", \"\\u65b0\\u805e\\u5247\\u6578\": 0}, {\"\\u65e5\\u671f\": \"2020-02-17T00:00:00\", \"\\u5831\\u7ae0\": \"\\u81ea\\u7531\\u6642\\u5831\", \"\\u65b0\\u805e\\u5247\\u6578\": 0}, {\"\\u65e5\\u671f\": \"2020-02-18T00:00:00\", \"\\u5831\\u7ae0\": \"\\u81ea\\u7531\\u6642\\u5831\", \"\\u65b0\\u805e\\u5247\\u6578\": 0}, {\"\\u65e5\\u671f\": \"2020-02-19T00:00:00\", \"\\u5831\\u7ae0\": \"\\u81ea\\u7531\\u6642\\u5831\", \"\\u65b0\\u805e\\u5247\\u6578\": 0}, {\"\\u65e5\\u671f\": \"2020-02-20T00:00:00\", \"\\u5831\\u7ae0\": \"\\u81ea\\u7531\\u6642\\u5831\", \"\\u65b0\\u805e\\u5247\\u6578\": 1}, {\"\\u65e5\\u671f\": \"2020-02-21T00:00:00\", \"\\u5831\\u7ae0\": \"\\u81ea\\u7531\\u6642\\u5831\", \"\\u65b0\\u805e\\u5247\\u6578\": 5}, {\"\\u65e5\\u671f\": \"2020-02-22T00:00:00\", \"\\u5831\\u7ae0\": \"\\u81ea\\u7531\\u6642\\u5831\", \"\\u65b0\\u805e\\u5247\\u6578\": 9}, {\"\\u65e5\\u671f\": \"2020-02-23T00:00:00\", \"\\u5831\\u7ae0\": \"\\u81ea\\u7531\\u6642\\u5831\", \"\\u65b0\\u805e\\u5247\\u6578\": 46}, {\"\\u65e5\\u671f\": \"2020-02-24T00:00:00\", \"\\u5831\\u7ae0\": \"\\u81ea\\u7531\\u6642\\u5831\", \"\\u65b0\\u805e\\u5247\\u6578\": 12}, {\"\\u65e5\\u671f\": \"2020-02-25T00:00:00\", \"\\u5831\\u7ae0\": \"\\u81ea\\u7531\\u6642\\u5831\", \"\\u65b0\\u805e\\u5247\\u6578\": 7}, {\"\\u65e5\\u671f\": \"2020-02-26T00:00:00\", \"\\u5831\\u7ae0\": \"\\u81ea\\u7531\\u6642\\u5831\", \"\\u65b0\\u805e\\u5247\\u6578\": 1}, {\"\\u65e5\\u671f\": \"2020-02-08T00:00:00\", \"\\u5831\\u7ae0\": \"\\u4e2d\\u570b\\u6642\\u5831\", \"\\u65b0\\u805e\\u5247\\u6578\": 2}, {\"\\u65e5\\u671f\": \"2020-02-09T00:00:00\", \"\\u5831\\u7ae0\": \"\\u4e2d\\u570b\\u6642\\u5831\", \"\\u65b0\\u805e\\u5247\\u6578\": 2}, {\"\\u65e5\\u671f\": \"2020-02-10T00:00:00\", \"\\u5831\\u7ae0\": \"\\u4e2d\\u570b\\u6642\\u5831\", \"\\u65b0\\u805e\\u5247\\u6578\": 0}, {\"\\u65e5\\u671f\": \"2020-02-11T00:00:00\", \"\\u5831\\u7ae0\": \"\\u4e2d\\u570b\\u6642\\u5831\", \"\\u65b0\\u805e\\u5247\\u6578\": 1}, {\"\\u65e5\\u671f\": \"2020-02-12T00:00:00\", \"\\u5831\\u7ae0\": \"\\u4e2d\\u570b\\u6642\\u5831\", \"\\u65b0\\u805e\\u5247\\u6578\": 1}, {\"\\u65e5\\u671f\": \"2020-02-13T00:00:00\", \"\\u5831\\u7ae0\": \"\\u4e2d\\u570b\\u6642\\u5831\", \"\\u65b0\\u805e\\u5247\\u6578\": 1}, {\"\\u65e5\\u671f\": \"2020-02-14T00:00:00\", \"\\u5831\\u7ae0\": \"\\u4e2d\\u570b\\u6642\\u5831\", \"\\u65b0\\u805e\\u5247\\u6578\": 2}, {\"\\u65e5\\u671f\": \"2020-02-15T00:00:00\", \"\\u5831\\u7ae0\": \"\\u4e2d\\u570b\\u6642\\u5831\", \"\\u65b0\\u805e\\u5247\\u6578\": 1}, {\"\\u65e5\\u671f\": \"2020-02-16T00:00:00\", \"\\u5831\\u7ae0\": \"\\u4e2d\\u570b\\u6642\\u5831\", \"\\u65b0\\u805e\\u5247\\u6578\": 0}, {\"\\u65e5\\u671f\": \"2020-02-17T00:00:00\", \"\\u5831\\u7ae0\": \"\\u4e2d\\u570b\\u6642\\u5831\", \"\\u65b0\\u805e\\u5247\\u6578\": 0}, {\"\\u65e5\\u671f\": \"2020-02-18T00:00:00\", \"\\u5831\\u7ae0\": \"\\u4e2d\\u570b\\u6642\\u5831\", \"\\u65b0\\u805e\\u5247\\u6578\": 0}, {\"\\u65e5\\u671f\": \"2020-02-19T00:00:00\", \"\\u5831\\u7ae0\": \"\\u4e2d\\u570b\\u6642\\u5831\", \"\\u65b0\\u805e\\u5247\\u6578\": 1}, {\"\\u65e5\\u671f\": \"2020-02-20T00:00:00\", \"\\u5831\\u7ae0\": \"\\u4e2d\\u570b\\u6642\\u5831\", \"\\u65b0\\u805e\\u5247\\u6578\": 0}, {\"\\u65e5\\u671f\": \"2020-02-21T00:00:00\", \"\\u5831\\u7ae0\": \"\\u4e2d\\u570b\\u6642\\u5831\", \"\\u65b0\\u805e\\u5247\\u6578\": 7}, {\"\\u65e5\\u671f\": \"2020-02-22T00:00:00\", \"\\u5831\\u7ae0\": \"\\u4e2d\\u570b\\u6642\\u5831\", \"\\u65b0\\u805e\\u5247\\u6578\": 27}, {\"\\u65e5\\u671f\": \"2020-02-23T00:00:00\", \"\\u5831\\u7ae0\": \"\\u4e2d\\u570b\\u6642\\u5831\", \"\\u65b0\\u805e\\u5247\\u6578\": 36}, {\"\\u65e5\\u671f\": \"2020-02-24T00:00:00\", \"\\u5831\\u7ae0\": \"\\u4e2d\\u570b\\u6642\\u5831\", \"\\u65b0\\u805e\\u5247\\u6578\": 28}, {\"\\u65e5\\u671f\": \"2020-02-25T00:00:00\", \"\\u5831\\u7ae0\": \"\\u4e2d\\u570b\\u6642\\u5831\", \"\\u65b0\\u805e\\u5247\\u6578\": 7}, {\"\\u65e5\\u671f\": \"2020-02-26T00:00:00\", \"\\u5831\\u7ae0\": \"\\u4e2d\\u570b\\u6642\\u5831\", \"\\u65b0\\u805e\\u5247\\u6578\": 0}, {\"\\u65e5\\u671f\": \"2020-02-08T00:00:00\", \"\\u5831\\u7ae0\": \"\\u860b\\u679c\\u65e5\\u5831\", \"\\u65b0\\u805e\\u5247\\u6578\": 1}, {\"\\u65e5\\u671f\": \"2020-02-09T00:00:00\", \"\\u5831\\u7ae0\": \"\\u860b\\u679c\\u65e5\\u5831\", \"\\u65b0\\u805e\\u5247\\u6578\": 0}, {\"\\u65e5\\u671f\": \"2020-02-10T00:00:00\", \"\\u5831\\u7ae0\": \"\\u860b\\u679c\\u65e5\\u5831\", \"\\u65b0\\u805e\\u5247\\u6578\": 0}, {\"\\u65e5\\u671f\": \"2020-02-11T00:00:00\", \"\\u5831\\u7ae0\": \"\\u860b\\u679c\\u65e5\\u5831\", \"\\u65b0\\u805e\\u5247\\u6578\": 0}, {\"\\u65e5\\u671f\": \"2020-02-12T00:00:00\", \"\\u5831\\u7ae0\": \"\\u860b\\u679c\\u65e5\\u5831\", \"\\u65b0\\u805e\\u5247\\u6578\": 0}, {\"\\u65e5\\u671f\": \"2020-02-13T00:00:00\", \"\\u5831\\u7ae0\": \"\\u860b\\u679c\\u65e5\\u5831\", \"\\u65b0\\u805e\\u5247\\u6578\": 1}, {\"\\u65e5\\u671f\": \"2020-02-14T00:00:00\", \"\\u5831\\u7ae0\": \"\\u860b\\u679c\\u65e5\\u5831\", \"\\u65b0\\u805e\\u5247\\u6578\": 0}, {\"\\u65e5\\u671f\": \"2020-02-15T00:00:00\", \"\\u5831\\u7ae0\": \"\\u860b\\u679c\\u65e5\\u5831\", \"\\u65b0\\u805e\\u5247\\u6578\": 0}, {\"\\u65e5\\u671f\": \"2020-02-16T00:00:00\", \"\\u5831\\u7ae0\": \"\\u860b\\u679c\\u65e5\\u5831\", \"\\u65b0\\u805e\\u5247\\u6578\": 0}, {\"\\u65e5\\u671f\": \"2020-02-17T00:00:00\", \"\\u5831\\u7ae0\": \"\\u860b\\u679c\\u65e5\\u5831\", \"\\u65b0\\u805e\\u5247\\u6578\": 0}, {\"\\u65e5\\u671f\": \"2020-02-18T00:00:00\", \"\\u5831\\u7ae0\": \"\\u860b\\u679c\\u65e5\\u5831\", \"\\u65b0\\u805e\\u5247\\u6578\": 0}, {\"\\u65e5\\u671f\": \"2020-02-19T00:00:00\", \"\\u5831\\u7ae0\": \"\\u860b\\u679c\\u65e5\\u5831\", \"\\u65b0\\u805e\\u5247\\u6578\": 1}, {\"\\u65e5\\u671f\": \"2020-02-20T00:00:00\", \"\\u5831\\u7ae0\": \"\\u860b\\u679c\\u65e5\\u5831\", \"\\u65b0\\u805e\\u5247\\u6578\": 2}, {\"\\u65e5\\u671f\": \"2020-02-21T00:00:00\", \"\\u5831\\u7ae0\": \"\\u860b\\u679c\\u65e5\\u5831\", \"\\u65b0\\u805e\\u5247\\u6578\": 12}, {\"\\u65e5\\u671f\": \"2020-02-22T00:00:00\", \"\\u5831\\u7ae0\": \"\\u860b\\u679c\\u65e5\\u5831\", \"\\u65b0\\u805e\\u5247\\u6578\": 23}, {\"\\u65e5\\u671f\": \"2020-02-23T00:00:00\", \"\\u5831\\u7ae0\": \"\\u860b\\u679c\\u65e5\\u5831\", \"\\u65b0\\u805e\\u5247\\u6578\": 33}, {\"\\u65e5\\u671f\": \"2020-02-24T00:00:00\", \"\\u5831\\u7ae0\": \"\\u860b\\u679c\\u65e5\\u5831\", \"\\u65b0\\u805e\\u5247\\u6578\": 24}, {\"\\u65e5\\u671f\": \"2020-02-25T00:00:00\", \"\\u5831\\u7ae0\": \"\\u860b\\u679c\\u65e5\\u5831\", \"\\u65b0\\u805e\\u5247\\u6578\": 1}, {\"\\u65e5\\u671f\": \"2020-02-26T00:00:00\", \"\\u5831\\u7ae0\": \"\\u860b\\u679c\\u65e5\\u5831\", \"\\u65b0\\u805e\\u5247\\u6578\": 3}, {\"\\u65e5\\u671f\": \"2020-02-08T00:00:00\", \"\\u5831\\u7ae0\": \"\\u806f\\u5408\\u5831\", \"\\u65b0\\u805e\\u5247\\u6578\": 0}, {\"\\u65e5\\u671f\": \"2020-02-09T00:00:00\", \"\\u5831\\u7ae0\": \"\\u806f\\u5408\\u5831\", \"\\u65b0\\u805e\\u5247\\u6578\": 1}, {\"\\u65e5\\u671f\": \"2020-02-10T00:00:00\", \"\\u5831\\u7ae0\": \"\\u806f\\u5408\\u5831\", \"\\u65b0\\u805e\\u5247\\u6578\": 1}, {\"\\u65e5\\u671f\": \"2020-02-11T00:00:00\", \"\\u5831\\u7ae0\": \"\\u806f\\u5408\\u5831\", \"\\u65b0\\u805e\\u5247\\u6578\": 0}, {\"\\u65e5\\u671f\": \"2020-02-12T00:00:00\", \"\\u5831\\u7ae0\": \"\\u806f\\u5408\\u5831\", \"\\u65b0\\u805e\\u5247\\u6578\": 0}, {\"\\u65e5\\u671f\": \"2020-02-13T00:00:00\", \"\\u5831\\u7ae0\": \"\\u806f\\u5408\\u5831\", \"\\u65b0\\u805e\\u5247\\u6578\": 0}, {\"\\u65e5\\u671f\": \"2020-02-14T00:00:00\", \"\\u5831\\u7ae0\": \"\\u806f\\u5408\\u5831\", \"\\u65b0\\u805e\\u5247\\u6578\": 1}, {\"\\u65e5\\u671f\": \"2020-02-15T00:00:00\", \"\\u5831\\u7ae0\": \"\\u806f\\u5408\\u5831\", \"\\u65b0\\u805e\\u5247\\u6578\": 0}, {\"\\u65e5\\u671f\": \"2020-02-16T00:00:00\", \"\\u5831\\u7ae0\": \"\\u806f\\u5408\\u5831\", \"\\u65b0\\u805e\\u5247\\u6578\": 1}, {\"\\u65e5\\u671f\": \"2020-02-17T00:00:00\", \"\\u5831\\u7ae0\": \"\\u806f\\u5408\\u5831\", \"\\u65b0\\u805e\\u5247\\u6578\": 1}, {\"\\u65e5\\u671f\": \"2020-02-18T00:00:00\", \"\\u5831\\u7ae0\": \"\\u806f\\u5408\\u5831\", \"\\u65b0\\u805e\\u5247\\u6578\": 2}, {\"\\u65e5\\u671f\": \"2020-02-19T00:00:00\", \"\\u5831\\u7ae0\": \"\\u806f\\u5408\\u5831\", \"\\u65b0\\u805e\\u5247\\u6578\": 2}, {\"\\u65e5\\u671f\": \"2020-02-20T00:00:00\", \"\\u5831\\u7ae0\": \"\\u806f\\u5408\\u5831\", \"\\u65b0\\u805e\\u5247\\u6578\": 1}, {\"\\u65e5\\u671f\": \"2020-02-21T00:00:00\", \"\\u5831\\u7ae0\": \"\\u806f\\u5408\\u5831\", \"\\u65b0\\u805e\\u5247\\u6578\": 0}, {\"\\u65e5\\u671f\": \"2020-02-22T00:00:00\", \"\\u5831\\u7ae0\": \"\\u806f\\u5408\\u5831\", \"\\u65b0\\u805e\\u5247\\u6578\": 5}, {\"\\u65e5\\u671f\": \"2020-02-23T00:00:00\", \"\\u5831\\u7ae0\": \"\\u806f\\u5408\\u5831\", \"\\u65b0\\u805e\\u5247\\u6578\": 8}, {\"\\u65e5\\u671f\": \"2020-02-24T00:00:00\", \"\\u5831\\u7ae0\": \"\\u806f\\u5408\\u5831\", \"\\u65b0\\u805e\\u5247\\u6578\": 9}, {\"\\u65e5\\u671f\": \"2020-02-25T00:00:00\", \"\\u5831\\u7ae0\": \"\\u806f\\u5408\\u5831\", \"\\u65b0\\u805e\\u5247\\u6578\": 8}, {\"\\u65e5\\u671f\": \"2020-02-26T00:00:00\", \"\\u5831\\u7ae0\": \"\\u806f\\u5408\\u5831\", \"\\u65b0\\u805e\\u5247\\u6578\": 0}, {\"\\u65e5\\u671f\": \"2020-02-08T00:00:00\", \"\\u5831\\u7ae0\": \"ETtoday\\u65b0\\u805e\\u96f2 \", \"\\u65b0\\u805e\\u5247\\u6578\": 1}, {\"\\u65e5\\u671f\": \"2020-02-09T00:00:00\", \"\\u5831\\u7ae0\": \"ETtoday\\u65b0\\u805e\\u96f2 \", \"\\u65b0\\u805e\\u5247\\u6578\": 0}, {\"\\u65e5\\u671f\": \"2020-02-10T00:00:00\", \"\\u5831\\u7ae0\": \"ETtoday\\u65b0\\u805e\\u96f2 \", \"\\u65b0\\u805e\\u5247\\u6578\": 0}, {\"\\u65e5\\u671f\": \"2020-02-11T00:00:00\", \"\\u5831\\u7ae0\": \"ETtoday\\u65b0\\u805e\\u96f2 \", \"\\u65b0\\u805e\\u5247\\u6578\": 1}, {\"\\u65e5\\u671f\": \"2020-02-12T00:00:00\", \"\\u5831\\u7ae0\": \"ETtoday\\u65b0\\u805e\\u96f2 \", \"\\u65b0\\u805e\\u5247\\u6578\": 0}, {\"\\u65e5\\u671f\": \"2020-02-13T00:00:00\", \"\\u5831\\u7ae0\": \"ETtoday\\u65b0\\u805e\\u96f2 \", \"\\u65b0\\u805e\\u5247\\u6578\": 1}, {\"\\u65e5\\u671f\": \"2020-02-14T00:00:00\", \"\\u5831\\u7ae0\": \"ETtoday\\u65b0\\u805e\\u96f2 \", \"\\u65b0\\u805e\\u5247\\u6578\": 0}, {\"\\u65e5\\u671f\": \"2020-02-15T00:00:00\", \"\\u5831\\u7ae0\": \"ETtoday\\u65b0\\u805e\\u96f2 \", \"\\u65b0\\u805e\\u5247\\u6578\": 0}, {\"\\u65e5\\u671f\": \"2020-02-16T00:00:00\", \"\\u5831\\u7ae0\": \"ETtoday\\u65b0\\u805e\\u96f2 \", \"\\u65b0\\u805e\\u5247\\u6578\": 0}, {\"\\u65e5\\u671f\": \"2020-02-17T00:00:00\", \"\\u5831\\u7ae0\": \"ETtoday\\u65b0\\u805e\\u96f2 \", \"\\u65b0\\u805e\\u5247\\u6578\": 0}, {\"\\u65e5\\u671f\": \"2020-02-18T00:00:00\", \"\\u5831\\u7ae0\": \"ETtoday\\u65b0\\u805e\\u96f2 \", \"\\u65b0\\u805e\\u5247\\u6578\": 0}, {\"\\u65e5\\u671f\": \"2020-02-19T00:00:00\", \"\\u5831\\u7ae0\": \"ETtoday\\u65b0\\u805e\\u96f2 \", \"\\u65b0\\u805e\\u5247\\u6578\": 2}, {\"\\u65e5\\u671f\": \"2020-02-20T00:00:00\", \"\\u5831\\u7ae0\": \"ETtoday\\u65b0\\u805e\\u96f2 \", \"\\u65b0\\u805e\\u5247\\u6578\": 1}, {\"\\u65e5\\u671f\": \"2020-02-21T00:00:00\", \"\\u5831\\u7ae0\": \"ETtoday\\u65b0\\u805e\\u96f2 \", \"\\u65b0\\u805e\\u5247\\u6578\": 7}, {\"\\u65e5\\u671f\": \"2020-02-22T00:00:00\", \"\\u5831\\u7ae0\": \"ETtoday\\u65b0\\u805e\\u96f2 \", \"\\u65b0\\u805e\\u5247\\u6578\": 21}, {\"\\u65e5\\u671f\": \"2020-02-23T00:00:00\", \"\\u5831\\u7ae0\": \"ETtoday\\u65b0\\u805e\\u96f2 \", \"\\u65b0\\u805e\\u5247\\u6578\": 39}, {\"\\u65e5\\u671f\": \"2020-02-24T00:00:00\", \"\\u5831\\u7ae0\": \"ETtoday\\u65b0\\u805e\\u96f2 \", \"\\u65b0\\u805e\\u5247\\u6578\": 22}, {\"\\u65e5\\u671f\": \"2020-02-25T00:00:00\", \"\\u5831\\u7ae0\": \"ETtoday\\u65b0\\u805e\\u96f2 \", \"\\u65b0\\u805e\\u5247\\u6578\": 2}, {\"\\u65e5\\u671f\": \"2020-02-26T00:00:00\", \"\\u5831\\u7ae0\": \"ETtoday\\u65b0\\u805e\\u96f2 \", \"\\u65b0\\u805e\\u5247\\u6578\": 0}]}}, {\"mode\": \"vega-lite\"});\n",
       "</script>"
      ],
      "text/plain": [
       "alt.Chart(...)"
      ]
     },
     "metadata": {},
     "output_type": "display_data"
    }
   ],
   "source": [
    "# Create the bar chart\n",
    "chart = alt.Chart(data_long).mark_bar().encode(\n",
    "    x='報章:N',\n",
    "    y='新聞則數:Q',\n",
    ").add_params(\n",
    "    date_selection\n",
    ").transform_filter(\n",
    "    \"date(datum.日期) == date(slider.日期[0])\"\n",
    ").properties(\n",
    "    width=500\n",
    ")\n",
    "\n",
    "# Display the chart\n",
    "chart.display()"
   ]
  }
 ],
 "metadata": {
  "kernelspec": {
   "display_name": "Python 3 (ipykernel)",
   "language": "python",
   "name": "python3"
  },
  "language_info": {
   "codemirror_mode": {
    "name": "ipython",
    "version": 3
   },
   "file_extension": ".py",
   "mimetype": "text/x-python",
   "name": "python",
   "nbconvert_exporter": "python",
   "pygments_lexer": "ipython3",
   "version": "3.9.18"
  }
 },
 "nbformat": 4,
 "nbformat_minor": 5
}
